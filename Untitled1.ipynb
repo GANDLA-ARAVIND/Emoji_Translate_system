{
 "cells": [
  {
   "cell_type": "code",
   "execution_count": 3,
   "id": "2c89cf2d",
   "metadata": {},
   "outputs": [
    {
     "name": "stdout",
     "output_type": "stream",
     "text": [
      "Collecting emot\n",
      "  Obtaining dependency information for emot from https://files.pythonhosted.org/packages/28/b3/3a0f1f66c448fc66aba69a73d6405a104fd973142594ee8bc5a5122e949c/emot-3.1-py3-none-any.whl.metadata\n",
      "  Downloading emot-3.1-py3-none-any.whl.metadata (396 bytes)\n",
      "Downloading emot-3.1-py3-none-any.whl (61 kB)\n",
      "   ---------------------------------------- 0.0/61.5 kB ? eta -:--:--\n",
      "   ---------------------------------------- 0.0/61.5 kB ? eta -:--:--\n",
      "   ---------------------------------------- 0.0/61.5 kB ? eta -:--:--\n",
      "   ---------------------------------------- 0.0/61.5 kB ? eta -:--:--\n",
      "   ---------------------------------------- 61.5/61.5 kB 3.2 MB/s eta 0:00:00\n",
      "Installing collected packages: emot\n",
      "Successfully installed emot-3.1\n"
     ]
    }
   ],
   "source": [
    "!pip install emot"
   ]
  },
  {
   "cell_type": "code",
   "execution_count": null,
   "id": "8e01664f",
   "metadata": {},
   "outputs": [],
   "source": []
  },
  {
   "cell_type": "code",
   "execution_count": 4,
   "id": "d76b38b4",
   "metadata": {},
   "outputs": [],
   "source": [
    "text1 = \"What are you saying 😂. I am the boss😎, and why are you so🙂\""
   ]
  },
  {
   "cell_type": "code",
   "execution_count": null,
   "id": "c7c40c99",
   "metadata": {},
   "outputs": [],
   "source": [
    "https://emojijoy.com/\n",
    "https://unicode.org/emoji/charts/full-emoji-list.html\n",
    "https://apps.timwhitlock.info/emoji/tables/unicode\n",
    "Windows+. -> display emoji"
   ]
  },
  {
   "cell_type": "code",
   "execution_count": 6,
   "id": "29be085c",
   "metadata": {},
   "outputs": [],
   "source": [
    "import re\n",
    "from emot.emo_unicode import UNICODE_EMOJI\n",
    "from emot.emo_unicode import EMOTICONS_EMO"
   ]
  },
  {
   "cell_type": "code",
   "execution_count": 10,
   "id": "1220bf15",
   "metadata": {},
   "outputs": [
    {
     "data": {
      "text/plain": [
       "'What are you saying . I am the boss, and why are you so'"
      ]
     },
     "execution_count": 10,
     "metadata": {},
     "output_type": "execute_result"
    }
   ],
   "source": [
    "def emoji_removal(string):\n",
    "    emoji_unicodes = re.compile(\"[\"\n",
    "                                u\"\\U0001F600-\\U0001F64F\"\n",
    "                                u\"\\U0001F300-\\U0001F5FF\"\n",
    "                                u\"\\U0001F680-\\U0001F6FF\"\n",
    "                                u\"\\U0001F1E0-\\U0001F1FF\"\n",
    "                                u\"\\U00002500-\\U00002BEF\"\n",
    "                                u\"\\U00002702-\\U00002BEF\"\n",
    "                                u\"\\U000024C2-\\U0001F251\"\n",
    "                                u\"\\U0001f926-\\U0001f937\"\n",
    "                                u\"\\U00010000-\\U0010ffff\"\n",
    "                                u\"\\u2640-\\u2642\"\n",
    "                                u\"\\u2600-\\u2B55\"\n",
    "                                u\"\\u200d\"\n",
    "                                u\"\\u23cf\"\n",
    "                                u\"\\u23e9\"\n",
    "                                u\"\\u231a\"\n",
    "                                u\"\\ufe0f\"  \n",
    "                                u\"\\u3030\"\n",
    "                                \n",
    "                                \"]+\", flags=re.UNICODE)\n",
    "    return emoji_unicodes.sub(r'', string)\n",
    "emoji_removal(text1)"
   ]
  },
  {
   "cell_type": "code",
   "execution_count": null,
   "id": "df2fe79a",
   "metadata": {},
   "outputs": [],
   "source": []
  }
 ],
 "metadata": {
  "kernelspec": {
   "display_name": "Python 3 (ipykernel)",
   "language": "python",
   "name": "python3"
  },
  "language_info": {
   "codemirror_mode": {
    "name": "ipython",
    "version": 3
   },
   "file_extension": ".py",
   "mimetype": "text/x-python",
   "name": "python",
   "nbconvert_exporter": "python",
   "pygments_lexer": "ipython3",
   "version": "3.11.5"
  }
 },
 "nbformat": 4,
 "nbformat_minor": 5
}
